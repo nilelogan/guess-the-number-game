{
 "cells": [
  {
   "cell_type": "code",
   "execution_count": 3,
   "metadata": {},
   "outputs": [],
   "source": [
    "import random"
   ]
  },
  {
   "cell_type": "code",
   "execution_count": 4,
   "metadata": {},
   "outputs": [
    {
     "name": "stdout",
     "output_type": "stream",
     "text": [
      "This is a guessing game - I am thinking of a number between 1 and 20.\n",
      "\n",
      "You have to guess it in 6 tries!\n",
      "\n",
      "Take a guess\n",
      "15\n",
      "Your guess is too high\n",
      "Take a guess\n",
      "10\n",
      "Your guess is too low\n",
      "Take a guess\n",
      "13\n",
      "Good job! You guessed my number in 3 guesses!\n"
     ]
    }
   ],
   "source": [
    "secretnum = random.randint(1,20) # define parameter\n",
    "print('This is a guessing game - I am thinking of a number between 1 and 20.\\n')\n",
    "# Ask the player to guess 6 times\n",
    "print('You have to guess it in 6 tries!\\n')\n",
    "for guesses_taken in range(1,7):\n",
    "    print('Take a guess')\n",
    "    guess = int(input())\n",
    "    if guess < secretnum:\n",
    "        print('Your guess is too low')\n",
    "    elif guess > secretnum:\n",
    "        print('Your guess is too high')\n",
    "    else:\n",
    "        break\n",
    "if guess == secretnum:\n",
    "    print('Good job! You guessed my number in '+str(guesses_taken)+' guesses!')\n",
    "else:\n",
    "    print('Nope. The number I was thinking of was ' + str(secretnum))\n",
    "    "
   ]
  },
  {
   "cell_type": "code",
   "execution_count": null,
   "metadata": {},
   "outputs": [],
   "source": []
  }
 ],
 "metadata": {
  "kernelspec": {
   "display_name": "Python 3",
   "language": "python",
   "name": "python3"
  },
  "language_info": {
   "codemirror_mode": {
    "name": "ipython",
    "version": 3
   },
   "file_extension": ".py",
   "mimetype": "text/x-python",
   "name": "python",
   "nbconvert_exporter": "python",
   "pygments_lexer": "ipython3",
   "version": "3.7.4"
  }
 },
 "nbformat": 4,
 "nbformat_minor": 2
}
